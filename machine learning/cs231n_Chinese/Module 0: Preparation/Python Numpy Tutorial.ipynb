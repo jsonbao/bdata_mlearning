{
 "cells": [
  {
   "cell_type": "markdown",
   "metadata": {},
   "source": [
    "[CS231n Convolutional Neural Networks for Visual Recognition](http://cs231n.github.io/)\n",
    "\n",
    "CS231n 卷及神经网络的视觉识别\n",
    "\n",
    "中文讲义\n",
    "\n",
    "版本: v0.0.1  by David.Yi from Chinapnr\n",
    "\n",
    "## Module 0: Preparation\n",
    "\n",
    "### Python Numpy Tutorial\n",
    "\n",
    "本教程由 Justin Johnson 提供。\n",
    "\n",
    "我们将使用 Python 编程语言来完成本课程中的所有作业。 Python 是一个伟大的通用编程语言，在几个流行的库函数（numpy，scipy，matplotlib）的帮助下，它已经成为一个强大的科学计算环境。\n",
    "\n",
    "我们期望你们中许多人有一些 Python 和 numpy 的经验; 对于其余的人，这部分将作为一个快速的 Python 编程语言和使用Python的科学计算的教程。\n",
    "\n",
    "你们中的一些人可能以前有 Matlab 知识，在这种情况下，我们还是建议看一 numpy中关于给Matlab用户的页面。\n",
    "\n",
    "您还可以找到由 Volodymyr Kuleshov 和 Isaac Caswell 为 CS 228 创建的本教程的[ IPython 笔记本版本](https://github.com/kuleshov/cs228-material/blob/master/tutorials/python/cs228-python-tutorial.ipynb)。\n",
    "\n",
    "#### Python\n",
    "\n",
    "Python是一种高级的、动态类型的编程语言。 Python代码几乎很像伪代码，因为它允许你用很少的代码表达非常强大的想法，同时可读性比较好。 下面的例子是Python中的经典快速排序算法的实现：\n",
    "\n",
    "```python\n",
    "def quicksort(arr):\n",
    "    if len(arr) <= 1:\n",
    "        return arr\n",
    "    pivot = arr[len(arr) / 2]\n",
    "    left = [x for x in arr if x < pivot]\n",
    "    middle = [x for x in arr if x == pivot]\n",
    "    right = [x for x in arr if x > pivot]\n",
    "    return quicksort(left) + middle + quicksort(right)\n",
    "    \n",
    "print quicksort([3,6,8,10,1,2,1])\n",
    "# Prints \"[1, 1, 2, 3, 6, 8, 10]\"\n",
    "```\n",
    "\n",
    "##### Python 版本\n",
    "\n",
    "目前有两种不同的版本的 Python，2.7和3.4。 有点令人困惑的是，Python 3.0 对语言引入了许多不兼容的更改，因此为2.7 编写的代码可能无法在 3.4 下工作，反之亦然。 在这个课程中，所有的代码将使用 Python 2.7。\n",
    "\n",
    "> 译者的话：在我翻译编辑这篇文章的时候，Python 的最新版本已经是 3.5.2了。不管从学习还是投资角度来说，我们都应该开始使用兼容 Python 3.5 的代码为宜。我会尽量尝试修改代码到 3.5 版本，如果由于某种原因你要使用 2.7 版本的话，相关参考代码请看原文档。\n",
    "\n",
    "你可以通过运行 `python —version` 在命令行中检查你的 Python 版本。\n",
    "\n",
    "##### 基础数据类型\n",
    "\n",
    "像大多数语言一样，Python有许多基本类型，包括整数，浮点数，布尔和字符串。 这些数据类型的行为方式与其他编程语言相似。\n",
    "\n",
    "**Numbers**：整数和浮点数工作方式与其他语言相同：\n"
   ]
  },
  {
   "cell_type": "code",
   "execution_count": 1,
   "metadata": {
    "collapsed": false
   },
   "outputs": [
    {
     "name": "stdout",
     "output_type": "stream",
     "text": [
      "<class 'int'>\n",
      "3\n",
      "4\n",
      "2\n",
      "6\n",
      "9\n",
      "4\n",
      "8\n",
      "<class 'float'>\n",
      "2.5 3.5 5.0 6.25\n"
     ]
    }
   ],
   "source": [
    "# python 3.5 支持\n",
    "\n",
    "x = 3\n",
    "print(type(x)) # Prints \"<type 'int'>\"\n",
    "print(x)       # Prints \"3\"\n",
    "print(x + 1)   # Addition; prints \"4\"\n",
    "print(x - 1)   # Subtraction; prints \"2\"\n",
    "print(x * 2)   # Multiplication; prints \"6\"\n",
    "print(x ** 2)  # Exponentiation; prints \"9\"\n",
    "x += 1\n",
    "print(x)  # Prints \"4\"\n",
    "x *= 2\n",
    "print(x)  # Prints \"8\"\n",
    "y =2.5\n",
    "print(type(y)) # Prints \"<type 'float'>\"\n",
    "print(y, y + 1, y * 2, y ** 2) # Prints \"2.5 3.5 5.0 6.25\""
   ]
  },
  {
   "cell_type": "markdown",
   "metadata": {
    "collapsed": true
   },
   "source": [
    "---\n",
    "\n",
    "注意，与许多语言不同，Python 没有一元增量（x ++）或减量（x--）运算符。\n",
    "\n",
    "Python 有用于长整型和复数的内置类型，您可以在文档中找到所有[详细信息](https://docs.python.org/2/library/stdtypes.html#numeric-types-int-float-long-complex)。\n",
    "\n",
    "** 逻辑操作**：Python 实现了布尔逻辑的所有常用运算符，但使用英语单词而不是符号（&&，||等）。"
   ]
  },
  {
   "cell_type": "code",
   "execution_count": 3,
   "metadata": {
    "collapsed": false
   },
   "outputs": [
    {
     "name": "stdout",
     "output_type": "stream",
     "text": [
      "<class 'bool'>\n",
      "False\n",
      "True\n",
      "False\n",
      "True\n"
     ]
    }
   ],
   "source": [
    "# python 3.5 支持\n",
    "t = True\n",
    "f = False\n",
    "print(type(t)) # Prints \"<type 'bool'>\"\n",
    "print(t and f) # Logical AND; prints \"False\"\n",
    "print(t or f)  # Logical OR; prints \"True\"\n",
    "print(not t)   # Logical NOT; prints \"False\"\n",
    "print(t != f)  # Logical XOR; prints \"True\""
   ]
  },
  {
   "cell_type": "markdown",
   "metadata": {},
   "source": [
    "---\n",
    "\n",
    "** 字符串**: python 对于字符串有非常好的支持\n"
   ]
  },
  {
   "cell_type": "code",
   "execution_count": 4,
   "metadata": {
    "collapsed": false
   },
   "outputs": [
    {
     "name": "stdout",
     "output_type": "stream",
     "text": [
      "hello\n",
      "5\n",
      "hello world\n",
      "hello world 12\n"
     ]
    }
   ],
   "source": [
    "# python 3.5 支持\n",
    "\n",
    "hello = 'hello'   # String literals can use single quotes\n",
    "world = \"world\"   # or double quotes; it does not matter.\n",
    "print(hello)       # Prints \"hello\"\n",
    "print(len(hello))  # String length; prints \"5\"\n",
    "hw =(hello + ' ' + world)  # String concatenation\n",
    "print(hw)  # prints \"hello world\"\n",
    "hw12 = '%s %s %d' % (hello, world, 12)  # sprintf style string formatting\n",
    "print(hw12)  # prints \"hello world 12\""
   ]
  },
  {
   "cell_type": "markdown",
   "metadata": {},
   "source": [
    "---\n",
    "\n",
    "字符串对象有许多有用的方法，例如：\n",
    "\n",
    "你可以在官方文档里找到字符串对象的[详细内容](https://docs.python.org/2/library/stdtypes.html#string-methods)"
   ]
  },
  {
   "cell_type": "code",
   "execution_count": 5,
   "metadata": {
    "collapsed": false
   },
   "outputs": [
    {
     "name": "stdout",
     "output_type": "stream",
     "text": [
      "Hello\n",
      "HELLO\n",
      "  hello\n",
      " hello \n",
      "he(ell)(ell)o\n",
      "world\n"
     ]
    }
   ],
   "source": [
    "# python 3.5 支持\n",
    "\n",
    "s = \"hello\"\n",
    "print(s.capitalize())  # Capitalize a string; prints \"Hello\"\n",
    "print(s.upper())       # Convert a string to uppercase; prints \"HELLO\"\n",
    "print(s.rjust(7))      # Right-justify a string, padding with spaces; prints \"  hello\"\n",
    "print(s.center(7))     # Center a string, padding with spaces; prints \" hello \"\n",
    "print(s.replace('l', '(ell)'))  # Replace all instances of one substring with another;\n",
    "                               # prints \"he(ell)(ell)o\"\n",
    "print('  world '.strip())  # Strip leading and trailing whitespace; prints \"world\""
   ]
  },
  {
   "cell_type": "code",
   "execution_count": null,
   "metadata": {
    "collapsed": true
   },
   "outputs": [],
   "source": []
  }
 ],
 "metadata": {
  "kernelspec": {
   "display_name": "Python 3",
   "language": "python",
   "name": "python3"
  },
  "language_info": {
   "codemirror_mode": {
    "name": "ipython",
    "version": 3
   },
   "file_extension": ".py",
   "mimetype": "text/x-python",
   "name": "python",
   "nbconvert_exporter": "python",
   "pygments_lexer": "ipython3",
   "version": "3.5.1"
  }
 },
 "nbformat": 4,
 "nbformat_minor": 0
}
