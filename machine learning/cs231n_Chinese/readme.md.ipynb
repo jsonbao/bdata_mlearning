{
 "cells": [
  {
   "cell_type": "markdown",
   "metadata": {},
   "source": [
    "这是斯坦福计算机科学课 CS231n：卷积神经网络的视觉识别 的笔记。\n",
    "\n",
    "原文出处：http://cs231n.github.io/\n",
    "\n",
    "原文说明：\n",
    "\n",
    "These notes accompany the Stanford CS class CS231n: Convolutional Neural Networks for Visual Recognition. \n",
    "For questions/concerns/bug reports regarding contact Justin Johnson regarding the assignments, or contact Andrej Karpathy regarding the course notes. You can also submit a pull request directly to our git repo. \n",
    "We encourage the use of the hypothes.is extension to annote comments and discuss these notes inline."
   ]
  }
 ],
 "metadata": {
  "kernelspec": {
   "display_name": "Python 3",
   "language": "python",
   "name": "python3"
  },
  "language_info": {
   "codemirror_mode": {
    "name": "ipython",
    "version": 3
   },
   "file_extension": ".py",
   "mimetype": "text/x-python",
   "name": "python",
   "nbconvert_exporter": "python",
   "pygments_lexer": "ipython3",
   "version": "3.5.1"
  }
 },
 "nbformat": 4,
 "nbformat_minor": 0
}
